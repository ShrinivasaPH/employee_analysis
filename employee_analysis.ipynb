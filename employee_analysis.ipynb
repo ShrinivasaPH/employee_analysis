{
 "cells": [
  {
   "cell_type": "markdown",
   "metadata": {
    "id": "9CCGmo1Lv5NE"
   },
   "source": [
    "# **Loading the data**"
   ]
  },
  {
   "cell_type": "code",
   "execution_count": 26,
   "metadata": {
    "colab": {
     "base_uri": "https://localhost:8080/"
    },
    "id": "X-941wUWxOcQ",
    "outputId": "4bbaff8f-0cfe-46a6-cc42-98853325fa0c"
   },
   "outputs": [
    {
     "name": "stdout",
     "output_type": "stream",
     "text": [
      "Downloading...\n",
      "From: https://drive.google.com/uc?id=1sNNnoQApDF2TZZ16NmeduLEXC7aJwZpT\n",
      "To: /content/employees.csv\n",
      "\r  0% 0.00/200 [00:00<?, ?B/s]\r100% 200/200 [00:00<00:00, 958kB/s]\n"
     ]
    }
   ],
   "source": [
    "!gdown 1sNNnoQApDF2TZZ16NmeduLEXC7aJwZpT"
   ]
  },
  {
   "cell_type": "code",
   "execution_count": 27,
   "metadata": {
    "colab": {
     "base_uri": "https://localhost:8080/"
    },
    "id": "bF-XkBJ1xo4o",
    "outputId": "7580a2b5-7311-4ea9-fd27-510dc897e86d"
   },
   "outputs": [
    {
     "name": "stdout",
     "output_type": "stream",
     "text": [
      "Downloading...\n",
      "From: https://drive.google.com/uc?id=1-x_MO_L7Eu4qb2f7vQvcm3pq5NRGQXow\n",
      "To: /content/performance.csv\n",
      "\r  0% 0.00/101 [00:00<?, ?B/s]\r100% 101/101 [00:00<00:00, 367kB/s]\n"
     ]
    }
   ],
   "source": [
    "!gdown 1-x_MO_L7Eu4qb2f7vQvcm3pq5NRGQXow"
   ]
  },
  {
   "cell_type": "code",
   "execution_count": 28,
   "metadata": {
    "colab": {
     "base_uri": "https://localhost:8080/"
    },
    "id": "RV1YDd5ixo2K",
    "outputId": "cff7a544-270b-4e98-a466-efd2c08fded9"
   },
   "outputs": [
    {
     "name": "stdout",
     "output_type": "stream",
     "text": [
      "Downloading...\n",
      "From: https://drive.google.com/uc?id=17ClKZVkwN9i-0A7Z2aXO-ozDtuO-_qq2\n",
      "To: /content/salaries.csv\n",
      "\r  0% 0.00/140 [00:00<?, ?B/s]\r100% 140/140 [00:00<00:00, 549kB/s]\n"
     ]
    }
   ],
   "source": [
    "!gdown 17ClKZVkwN9i-0A7Z2aXO-ozDtuO-_qq2"
   ]
  },
  {
   "cell_type": "code",
   "execution_count": 30,
   "metadata": {
    "id": "U6oV92wbycvH"
   },
   "outputs": [],
   "source": [
    "import numpy as np"
   ]
  },
  {
   "cell_type": "code",
   "execution_count": 39,
   "metadata": {
    "id": "hq-vhZ31yZk1"
   },
   "outputs": [],
   "source": [
    "import pandas as pd\n",
    "\n",
    "employees = pd.read_csv('employees.csv', parse_dates=['join_date'])\n",
    "salaries = pd.read_csv('salaries.csv', parse_dates=['effective_date'])\n",
    "performance = pd.read_csv('performance.csv')\n"
   ]
  },
  {
   "cell_type": "code",
   "execution_count": 40,
   "metadata": {
    "id": "atGAde4dym-z"
   },
   "outputs": [],
   "source": [
    "df = employees.merge(salaries, on='employee_id').merge(performance, on='employee_id')\n",
    "\n",
    "# Add experience in years\n",
    "df['experience_years'] = (pd.Timestamp.today() - df['join_date']).dt.days // 365"
   ]
  },
  {
   "cell_type": "code",
   "execution_count": 41,
   "metadata": {
    "colab": {
     "base_uri": "https://localhost:8080/"
    },
    "id": "eG8JH7mLym8E",
    "outputId": "f853d088-5573-46ea-a6ef-58ad110aa3a4"
   },
   "outputs": [
    {
     "name": "stdout",
     "output_type": "stream",
     "text": [
      "   employee_id     name   department  join_date  age  salary effective_date  \\\n",
      "0          101    Alice           HR 2018-06-01   29   70000     2023-01-01   \n",
      "1          102      Bob  Engineering 2017-08-10   34   90000     2023-01-01   \n",
      "2          103  Charlie    Marketing 2019-02-20   26   60000     2023-01-01   \n",
      "3          104    David  Engineering 2015-11-15   40  110000     2023-01-01   \n",
      "4          105      Eva           HR 2020-03-05   31   65000     2023-01-01   \n",
      "\n",
      "   year  performance_rating  experience_years  \n",
      "0  2022                 4.5                 7  \n",
      "1  2022                 3.9                 7  \n",
      "2  2022                 4.7                 6  \n",
      "3  2022                 4.1                 9  \n",
      "4  2022                 4.9                 5  \n",
      "<class 'pandas.core.frame.DataFrame'>\n",
      "RangeIndex: 5 entries, 0 to 4\n",
      "Data columns (total 10 columns):\n",
      " #   Column              Non-Null Count  Dtype         \n",
      "---  ------              --------------  -----         \n",
      " 0   employee_id         5 non-null      int64         \n",
      " 1   name                5 non-null      object        \n",
      " 2   department          5 non-null      object        \n",
      " 3   join_date           5 non-null      datetime64[ns]\n",
      " 4   age                 5 non-null      int64         \n",
      " 5   salary              5 non-null      int64         \n",
      " 6   effective_date      5 non-null      datetime64[ns]\n",
      " 7   year                5 non-null      int64         \n",
      " 8   performance_rating  5 non-null      float64       \n",
      " 9   experience_years    5 non-null      int64         \n",
      "dtypes: datetime64[ns](2), float64(1), int64(5), object(2)\n",
      "memory usage: 532.0+ bytes\n",
      "None\n",
      "       employee_id            join_date        age         salary  \\\n",
      "count     5.000000                    5   5.000000       5.000000   \n",
      "mean    103.000000  2018-03-29 14:24:00  32.000000   79000.000000   \n",
      "min     101.000000  2015-11-15 00:00:00  26.000000   60000.000000   \n",
      "25%     102.000000  2017-08-10 00:00:00  29.000000   65000.000000   \n",
      "50%     103.000000  2018-06-01 00:00:00  31.000000   70000.000000   \n",
      "75%     104.000000  2019-02-20 00:00:00  34.000000   90000.000000   \n",
      "max     105.000000  2020-03-05 00:00:00  40.000000  110000.000000   \n",
      "std       1.581139                  NaN   5.338539   20736.441353   \n",
      "\n",
      "            effective_date    year  performance_rating  experience_years  \n",
      "count                    5     5.0            5.000000           5.00000  \n",
      "mean   2023-01-01 00:00:00  2022.0            4.420000           6.80000  \n",
      "min    2023-01-01 00:00:00  2022.0            3.900000           5.00000  \n",
      "25%    2023-01-01 00:00:00  2022.0            4.100000           6.00000  \n",
      "50%    2023-01-01 00:00:00  2022.0            4.500000           7.00000  \n",
      "75%    2023-01-01 00:00:00  2022.0            4.700000           7.00000  \n",
      "max    2023-01-01 00:00:00  2022.0            4.900000           9.00000  \n",
      "std                    NaN     0.0            0.414729           1.48324  \n"
     ]
    }
   ],
   "source": [
    "print(df.head())\n",
    "print(df.info())\n",
    "print(df.describe())\n"
   ]
  },
  {
   "cell_type": "code",
   "execution_count": 42,
   "metadata": {
    "id": "RWrPNnOhymJ3"
   },
   "outputs": [],
   "source": [
    "df.to_csv(\"merged.csv\", index=False)\n"
   ]
  },
  {
   "cell_type": "code",
   "execution_count": 43,
   "metadata": {
    "id": "XtoUQ0Sf1gRL"
   },
   "outputs": [],
   "source": [
    "# 1. Average salary per department\n",
    "avg_salary = df.groupby('department')['salary'].mean().reset_index()\n",
    "\n",
    "# 2. Top performers\n",
    "top_performers = df[df['performance_rating'] > 4.5]\n",
    "\n",
    "# 3. Correlation\n",
    "correlation = df[['salary', 'experience_years', 'performance_rating']].corr()\n"
   ]
  },
  {
   "cell_type": "code",
   "execution_count": 44,
   "metadata": {
    "colab": {
     "base_uri": "https://localhost:8080/"
    },
    "id": "Eev32Sun2YE8",
    "outputId": "d33dd6a3-8292-434f-cdbf-3b4d57940961"
   },
   "outputs": [
    {
     "name": "stdout",
     "output_type": "stream",
     "text": [
      "Collecting streamlit\n",
      "  Downloading streamlit-1.46.0-py3-none-any.whl.metadata (9.0 kB)\n",
      "Requirement already satisfied: matplotlib in /usr/local/lib/python3.11/dist-packages (3.10.0)\n",
      "Requirement already satisfied: seaborn in /usr/local/lib/python3.11/dist-packages (0.13.2)\n",
      "Requirement already satisfied: pandas in /usr/local/lib/python3.11/dist-packages (2.2.2)\n",
      "Requirement already satisfied: altair<6,>=4.0 in /usr/local/lib/python3.11/dist-packages (from streamlit) (5.5.0)\n",
      "Requirement already satisfied: blinker<2,>=1.5.0 in /usr/local/lib/python3.11/dist-packages (from streamlit) (1.9.0)\n",
      "Requirement already satisfied: cachetools<7,>=4.0 in /usr/local/lib/python3.11/dist-packages (from streamlit) (5.5.2)\n",
      "Requirement already satisfied: click<9,>=7.0 in /usr/local/lib/python3.11/dist-packages (from streamlit) (8.2.1)\n",
      "Requirement already satisfied: numpy<3,>=1.23 in /usr/local/lib/python3.11/dist-packages (from streamlit) (2.0.2)\n",
      "Requirement already satisfied: packaging<26,>=20 in /usr/local/lib/python3.11/dist-packages (from streamlit) (24.2)\n",
      "Requirement already satisfied: pillow<12,>=7.1.0 in /usr/local/lib/python3.11/dist-packages (from streamlit) (11.2.1)\n",
      "Requirement already satisfied: protobuf<7,>=3.20 in /usr/local/lib/python3.11/dist-packages (from streamlit) (5.29.5)\n",
      "Requirement already satisfied: pyarrow>=7.0 in /usr/local/lib/python3.11/dist-packages (from streamlit) (18.1.0)\n",
      "Requirement already satisfied: requests<3,>=2.27 in /usr/local/lib/python3.11/dist-packages (from streamlit) (2.32.3)\n",
      "Requirement already satisfied: tenacity<10,>=8.1.0 in /usr/local/lib/python3.11/dist-packages (from streamlit) (9.1.2)\n",
      "Requirement already satisfied: toml<2,>=0.10.1 in /usr/local/lib/python3.11/dist-packages (from streamlit) (0.10.2)\n",
      "Requirement already satisfied: typing-extensions<5,>=4.4.0 in /usr/local/lib/python3.11/dist-packages (from streamlit) (4.14.0)\n",
      "Collecting watchdog<7,>=2.1.5 (from streamlit)\n",
      "  Downloading watchdog-6.0.0-py3-none-manylinux2014_x86_64.whl.metadata (44 kB)\n",
      "\u001b[2K     \u001b[90m━━━━━━━━━━━━━━━━━━━━━━━━━━━━━━━━━━━━━━━━\u001b[0m \u001b[32m44.3/44.3 kB\u001b[0m \u001b[31m2.2 MB/s\u001b[0m eta \u001b[36m0:00:00\u001b[0m\n",
      "\u001b[?25hRequirement already satisfied: gitpython!=3.1.19,<4,>=3.0.7 in /usr/local/lib/python3.11/dist-packages (from streamlit) (3.1.44)\n",
      "Collecting pydeck<1,>=0.8.0b4 (from streamlit)\n",
      "  Downloading pydeck-0.9.1-py2.py3-none-any.whl.metadata (4.1 kB)\n",
      "Requirement already satisfied: tornado!=6.5.0,<7,>=6.0.3 in /usr/local/lib/python3.11/dist-packages (from streamlit) (6.4.2)\n",
      "Requirement already satisfied: contourpy>=1.0.1 in /usr/local/lib/python3.11/dist-packages (from matplotlib) (1.3.2)\n",
      "Requirement already satisfied: cycler>=0.10 in /usr/local/lib/python3.11/dist-packages (from matplotlib) (0.12.1)\n",
      "Requirement already satisfied: fonttools>=4.22.0 in /usr/local/lib/python3.11/dist-packages (from matplotlib) (4.58.4)\n",
      "Requirement already satisfied: kiwisolver>=1.3.1 in /usr/local/lib/python3.11/dist-packages (from matplotlib) (1.4.8)\n",
      "Requirement already satisfied: pyparsing>=2.3.1 in /usr/local/lib/python3.11/dist-packages (from matplotlib) (3.2.3)\n",
      "Requirement already satisfied: python-dateutil>=2.7 in /usr/local/lib/python3.11/dist-packages (from matplotlib) (2.9.0.post0)\n",
      "Requirement already satisfied: pytz>=2020.1 in /usr/local/lib/python3.11/dist-packages (from pandas) (2025.2)\n",
      "Requirement already satisfied: tzdata>=2022.7 in /usr/local/lib/python3.11/dist-packages (from pandas) (2025.2)\n",
      "Requirement already satisfied: jinja2 in /usr/local/lib/python3.11/dist-packages (from altair<6,>=4.0->streamlit) (3.1.6)\n",
      "Requirement already satisfied: jsonschema>=3.0 in /usr/local/lib/python3.11/dist-packages (from altair<6,>=4.0->streamlit) (4.24.0)\n",
      "Requirement already satisfied: narwhals>=1.14.2 in /usr/local/lib/python3.11/dist-packages (from altair<6,>=4.0->streamlit) (1.43.0)\n",
      "Requirement already satisfied: gitdb<5,>=4.0.1 in /usr/local/lib/python3.11/dist-packages (from gitpython!=3.1.19,<4,>=3.0.7->streamlit) (4.0.12)\n",
      "Requirement already satisfied: six>=1.5 in /usr/local/lib/python3.11/dist-packages (from python-dateutil>=2.7->matplotlib) (1.17.0)\n",
      "Requirement already satisfied: charset-normalizer<4,>=2 in /usr/local/lib/python3.11/dist-packages (from requests<3,>=2.27->streamlit) (3.4.2)\n",
      "Requirement already satisfied: idna<4,>=2.5 in /usr/local/lib/python3.11/dist-packages (from requests<3,>=2.27->streamlit) (3.10)\n",
      "Requirement already satisfied: urllib3<3,>=1.21.1 in /usr/local/lib/python3.11/dist-packages (from requests<3,>=2.27->streamlit) (2.4.0)\n",
      "Requirement already satisfied: certifi>=2017.4.17 in /usr/local/lib/python3.11/dist-packages (from requests<3,>=2.27->streamlit) (2025.6.15)\n",
      "Requirement already satisfied: smmap<6,>=3.0.1 in /usr/local/lib/python3.11/dist-packages (from gitdb<5,>=4.0.1->gitpython!=3.1.19,<4,>=3.0.7->streamlit) (5.0.2)\n",
      "Requirement already satisfied: MarkupSafe>=2.0 in /usr/local/lib/python3.11/dist-packages (from jinja2->altair<6,>=4.0->streamlit) (3.0.2)\n",
      "Requirement already satisfied: attrs>=22.2.0 in /usr/local/lib/python3.11/dist-packages (from jsonschema>=3.0->altair<6,>=4.0->streamlit) (25.3.0)\n",
      "Requirement already satisfied: jsonschema-specifications>=2023.03.6 in /usr/local/lib/python3.11/dist-packages (from jsonschema>=3.0->altair<6,>=4.0->streamlit) (2025.4.1)\n",
      "Requirement already satisfied: referencing>=0.28.4 in /usr/local/lib/python3.11/dist-packages (from jsonschema>=3.0->altair<6,>=4.0->streamlit) (0.36.2)\n",
      "Requirement already satisfied: rpds-py>=0.7.1 in /usr/local/lib/python3.11/dist-packages (from jsonschema>=3.0->altair<6,>=4.0->streamlit) (0.25.1)\n",
      "Downloading streamlit-1.46.0-py3-none-any.whl (10.1 MB)\n",
      "\u001b[2K   \u001b[90m━━━━━━━━━━━━━━━━━━━━━━━━━━━━━━━━━━━━━━━━\u001b[0m \u001b[32m10.1/10.1 MB\u001b[0m \u001b[31m104.9 MB/s\u001b[0m eta \u001b[36m0:00:00\u001b[0m\n",
      "\u001b[?25hDownloading pydeck-0.9.1-py2.py3-none-any.whl (6.9 MB)\n",
      "\u001b[2K   \u001b[90m━━━━━━━━━━━━━━━━━━━━━━━━━━━━━━━━━━━━━━━━\u001b[0m \u001b[32m6.9/6.9 MB\u001b[0m \u001b[31m101.7 MB/s\u001b[0m eta \u001b[36m0:00:00\u001b[0m\n",
      "\u001b[?25hDownloading watchdog-6.0.0-py3-none-manylinux2014_x86_64.whl (79 kB)\n",
      "\u001b[2K   \u001b[90m━━━━━━━━━━━━━━━━━━━━━━━━━━━━━━━━━━━━━━━━\u001b[0m \u001b[32m79.1/79.1 kB\u001b[0m \u001b[31m6.6 MB/s\u001b[0m eta \u001b[36m0:00:00\u001b[0m\n",
      "\u001b[?25hInstalling collected packages: watchdog, pydeck, streamlit\n",
      "Successfully installed pydeck-0.9.1 streamlit-1.46.0 watchdog-6.0.0\n"
     ]
    }
   ],
   "source": [
    "pip install streamlit matplotlib seaborn pandas\n"
   ]
  },
  {
   "cell_type": "code",
   "execution_count": null,
   "metadata": {
    "id": "xuj-5mCA1gO9"
   },
   "outputs": [],
   "source": [
    "import seaborn as sns\n",
    "import matplotlib.pyplot as plt\n",
    "import streamlit as st\n",
    "\n",
    "st.title(\"📊 Employee Data Analysis Dashboard\")\n",
    "\n",
    "# Show merged data\n",
    "st.subheader(\"📋 Merged Data\")\n",
    "st.dataframe(df)\n",
    "\n",
    "# Show average salary\n",
    "st.subheader(\"💰 Average Salary by Department\")\n",
    "st.dataframe(avg_salary)\n",
    "\n",
    "# Visual 1: Boxplot - Salary by Department\n",
    "st.subheader(\"📦 Salary Distribution by Department\")\n",
    "fig1, ax1 = plt.subplots()\n",
    "sns.boxplot(x='department', y='salary', data=df, ax=ax1)\n",
    "st.pyplot(fig1)\n",
    "\n",
    "# Visual 2: Scatterplot - Performance vs Salary\n",
    "st.subheader(\"📈 Performance vs Salary\")\n",
    "fig2, ax2 = plt.subplots()\n",
    "sns.scatterplot(x='performance_rating', y='salary', hue='department', data=df, ax=ax2)\n",
    "st.pyplot(fig2)\n",
    "\n",
    "# Visual 3: Correlation Heatmap\n",
    "st.subheader(\"📊 Correlation Heatmap\")\n",
    "fig3, ax3 = plt.subplots()\n",
    "sns.heatmap(correlation, annot=True, cmap=\"coolwarm\", ax=ax3)\n",
    "st.pyplot(fig3)\n"
   ]
  },
  {
   "cell_type": "code",
   "execution_count": null,
   "metadata": {
    "id": "AzSliQZq1gIQ"
   },
   "outputs": [],
   "source": []
  }
 ],
 "metadata": {
  "colab": {
   "provenance": []
  },
  "kernelspec": {
   "display_name": "Python 3",
   "name": "python3"
  },
  "language_info": {
   "name": "python"
  }
 },
 "nbformat": 4,
 "nbformat_minor": 0
}
