{
  "nbformat": 4,
  "nbformat_minor": 0,
  "metadata": {
    "colab": {
      "provenance": []
    },
    "kernelspec": {
      "name": "python3",
      "display_name": "Python 3"
    },
    "language_info": {
      "name": "python"
    }
  },
  "cells": [
    {
      "cell_type": "markdown",
      "source": [
        "# **Loading the data**"
      ],
      "metadata": {
        "id": "9CCGmo1Lv5NE"
      }
    },
    {
      "cell_type": "code",
      "source": [
        "!gdown 1sNNnoQApDF2TZZ16NmeduLEXC7aJwZpT"
      ],
      "metadata": {
        "colab": {
          "base_uri": "https://localhost:8080/"
        },
        "id": "X-941wUWxOcQ",
        "outputId": "4bbaff8f-0cfe-46a6-cc42-98853325fa0c"
      },
      "execution_count": 26,
      "outputs": [
        {
          "output_type": "stream",
          "name": "stdout",
          "text": [
            "Downloading...\n",
            "From: https://drive.google.com/uc?id=1sNNnoQApDF2TZZ16NmeduLEXC7aJwZpT\n",
            "To: /content/employees.csv\n",
            "\r  0% 0.00/200 [00:00<?, ?B/s]\r100% 200/200 [00:00<00:00, 958kB/s]\n"
          ]
        }
      ]
    },
    {
      "cell_type": "code",
      "source": [
        "!gdown 1-x_MO_L7Eu4qb2f7vQvcm3pq5NRGQXow"
      ],
      "metadata": {
        "colab": {
          "base_uri": "https://localhost:8080/"
        },
        "id": "bF-XkBJ1xo4o",
        "outputId": "7580a2b5-7311-4ea9-fd27-510dc897e86d"
      },
      "execution_count": 27,
      "outputs": [
        {
          "output_type": "stream",
          "name": "stdout",
          "text": [
            "Downloading...\n",
            "From: https://drive.google.com/uc?id=1-x_MO_L7Eu4qb2f7vQvcm3pq5NRGQXow\n",
            "To: /content/performance.csv\n",
            "\r  0% 0.00/101 [00:00<?, ?B/s]\r100% 101/101 [00:00<00:00, 367kB/s]\n"
          ]
        }
      ]
    },
    {
      "cell_type": "code",
      "source": [
        "!gdown 17ClKZVkwN9i-0A7Z2aXO-ozDtuO-_qq2"
      ],
      "metadata": {
        "colab": {
          "base_uri": "https://localhost:8080/"
        },
        "id": "RV1YDd5ixo2K",
        "outputId": "cff7a544-270b-4e98-a466-efd2c08fded9"
      },
      "execution_count": 28,
      "outputs": [
        {
          "output_type": "stream",
          "name": "stdout",
          "text": [
            "Downloading...\n",
            "From: https://drive.google.com/uc?id=17ClKZVkwN9i-0A7Z2aXO-ozDtuO-_qq2\n",
            "To: /content/salaries.csv\n",
            "\r  0% 0.00/140 [00:00<?, ?B/s]\r100% 140/140 [00:00<00:00, 549kB/s]\n"
          ]
        }
      ]
    },
    {
      "cell_type": "code",
      "source": [
        "import numpy as np"
      ],
      "metadata": {
        "id": "U6oV92wbycvH"
      },
      "execution_count": 30,
      "outputs": []
    },
    {
      "cell_type": "code",
      "source": [
        "import pandas as pd\n",
        "\n",
        "employees = pd.read_csv('employees.csv', parse_dates=['join_date'])\n",
        "salaries = pd.read_csv('salaries.csv', parse_dates=['effective_date'])\n",
        "performance = pd.read_csv('performance.csv')\n"
      ],
      "metadata": {
        "id": "hq-vhZ31yZk1"
      },
      "execution_count": 39,
      "outputs": []
    },
    {
      "cell_type": "code",
      "source": [
        "df = employees.merge(salaries, on='employee_id').merge(performance, on='employee_id')\n",
        "\n",
        "# Add experience in years\n",
        "df['experience_years'] = (pd.Timestamp.today() - df['join_date']).dt.days // 365"
      ],
      "metadata": {
        "id": "atGAde4dym-z"
      },
      "execution_count": 40,
      "outputs": []
    },
    {
      "cell_type": "code",
      "source": [
        "print(df.head())\n",
        "print(df.info())\n",
        "print(df.describe())\n"
      ],
      "metadata": {
        "colab": {
          "base_uri": "https://localhost:8080/"
        },
        "id": "eG8JH7mLym8E",
        "outputId": "f853d088-5573-46ea-a6ef-58ad110aa3a4"
      },
      "execution_count": 41,
      "outputs": [
        {
          "output_type": "stream",
          "name": "stdout",
          "text": [
            "   employee_id     name   department  join_date  age  salary effective_date  \\\n",
            "0          101    Alice           HR 2018-06-01   29   70000     2023-01-01   \n",
            "1          102      Bob  Engineering 2017-08-10   34   90000     2023-01-01   \n",
            "2          103  Charlie    Marketing 2019-02-20   26   60000     2023-01-01   \n",
            "3          104    David  Engineering 2015-11-15   40  110000     2023-01-01   \n",
            "4          105      Eva           HR 2020-03-05   31   65000     2023-01-01   \n",
            "\n",
            "   year  performance_rating  experience_years  \n",
            "0  2022                 4.5                 7  \n",
            "1  2022                 3.9                 7  \n",
            "2  2022                 4.7                 6  \n",
            "3  2022                 4.1                 9  \n",
            "4  2022                 4.9                 5  \n",
            "<class 'pandas.core.frame.DataFrame'>\n",
            "RangeIndex: 5 entries, 0 to 4\n",
            "Data columns (total 10 columns):\n",
            " #   Column              Non-Null Count  Dtype         \n",
            "---  ------              --------------  -----         \n",
            " 0   employee_id         5 non-null      int64         \n",
            " 1   name                5 non-null      object        \n",
            " 2   department          5 non-null      object        \n",
            " 3   join_date           5 non-null      datetime64[ns]\n",
            " 4   age                 5 non-null      int64         \n",
            " 5   salary              5 non-null      int64         \n",
            " 6   effective_date      5 non-null      datetime64[ns]\n",
            " 7   year                5 non-null      int64         \n",
            " 8   performance_rating  5 non-null      float64       \n",
            " 9   experience_years    5 non-null      int64         \n",
            "dtypes: datetime64[ns](2), float64(1), int64(5), object(2)\n",
            "memory usage: 532.0+ bytes\n",
            "None\n",
            "       employee_id            join_date        age         salary  \\\n",
            "count     5.000000                    5   5.000000       5.000000   \n",
            "mean    103.000000  2018-03-29 14:24:00  32.000000   79000.000000   \n",
            "min     101.000000  2015-11-15 00:00:00  26.000000   60000.000000   \n",
            "25%     102.000000  2017-08-10 00:00:00  29.000000   65000.000000   \n",
            "50%     103.000000  2018-06-01 00:00:00  31.000000   70000.000000   \n",
            "75%     104.000000  2019-02-20 00:00:00  34.000000   90000.000000   \n",
            "max     105.000000  2020-03-05 00:00:00  40.000000  110000.000000   \n",
            "std       1.581139                  NaN   5.338539   20736.441353   \n",
            "\n",
            "            effective_date    year  performance_rating  experience_years  \n",
            "count                    5     5.0            5.000000           5.00000  \n",
            "mean   2023-01-01 00:00:00  2022.0            4.420000           6.80000  \n",
            "min    2023-01-01 00:00:00  2022.0            3.900000           5.00000  \n",
            "25%    2023-01-01 00:00:00  2022.0            4.100000           6.00000  \n",
            "50%    2023-01-01 00:00:00  2022.0            4.500000           7.00000  \n",
            "75%    2023-01-01 00:00:00  2022.0            4.700000           7.00000  \n",
            "max    2023-01-01 00:00:00  2022.0            4.900000           9.00000  \n",
            "std                    NaN     0.0            0.414729           1.48324  \n"
          ]
        }
      ]
    },
    {
      "cell_type": "code",
      "source": [
        "df.to_csv(\"merged.csv\", index=False)\n"
      ],
      "metadata": {
        "id": "RWrPNnOhymJ3"
      },
      "execution_count": 42,
      "outputs": []
    },
    {
      "cell_type": "code",
      "source": [
        "# 1. Average salary per department\n",
        "avg_salary = df.groupby('department')['salary'].mean().reset_index()\n",
        "\n",
        "# 2. Top performers\n",
        "top_performers = df[df['performance_rating'] > 4.5]\n",
        "\n",
        "# 3. Correlation\n",
        "correlation = df[['salary', 'experience_years', 'performance_rating']].corr()\n"
      ],
      "metadata": {
        "id": "XtoUQ0Sf1gRL"
      },
      "execution_count": 43,
      "outputs": []
    },
    {
      "cell_type": "code",
      "source": [],
      "metadata": {
        "id": "xuj-5mCA1gO9"
      },
      "execution_count": null,
      "outputs": []
    },
    {
      "cell_type": "code",
      "source": [],
      "metadata": {
        "id": "UVF8nZfL1gMw"
      },
      "execution_count": null,
      "outputs": []
    },
    {
      "cell_type": "code",
      "source": [],
      "metadata": {
        "id": "ASuNMmBr1gKx"
      },
      "execution_count": null,
      "outputs": []
    },
    {
      "cell_type": "code",
      "source": [],
      "metadata": {
        "id": "AzSliQZq1gIQ"
      },
      "execution_count": null,
      "outputs": []
    }
  ]
}